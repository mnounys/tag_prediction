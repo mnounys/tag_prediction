{
 "cells": [
  {
   "cell_type": "markdown",
   "id": "3d770257-ea48-458f-9a04-9ece7d777bc9",
   "metadata": {},
   "source": [
    "# Objectif"
   ]
  },
  {
   "cell_type": "markdown",
   "id": "e9f2756b-d450-48d3-9e13-4bc4e18bd75e",
   "metadata": {},
   "source": [
    "Dans ce notebook nous allons aborder la construction de notre API. Ce notebook sera le point d'entrée vers la conception de notre API qui sera stocké dans le dossier API."
   ]
  },
  {
   "cell_type": "markdown",
   "id": "e76850f8-a03a-47ce-aad3-3bfabd3ecf3b",
   "metadata": {},
   "source": [
    "## Import du modèle retenu"
   ]
  },
  {
   "cell_type": "code",
   "execution_count": 31,
   "id": "bcd274c1-d240-4281-9875-b3934bd953ec",
   "metadata": {},
   "outputs": [],
   "source": [
    "import joblib\n",
    "import os\n",
    "from sklearn.linear_model import LogisticRegression\n",
    "from sklearn.multiclass import OneVsRestClassifier\n",
    "from sklearn.feature_extraction.text import TfidfVectorizer\n",
    "\n",
    "workingDir = os.getcwd()\n",
    "filePath = os.path.join(workingDir,'API/model/tags_lr_compressed.joblib')\n",
    "# load\n",
    "mPredict = joblib.load(filePath)\n",
    "\n",
    "filePath = os.path.join(workingDir,'API/model/tfidf.joblib')\n",
    "vectorizer =  joblib.load(filePath)"
   ]
  },
  {
   "cell_type": "code",
   "execution_count": 32,
   "id": "bd40cdd1-3ed2-45cd-91d6-425ef08f93b5",
   "metadata": {},
   "outputs": [],
   "source": [
    "from sklearn.preprocessing import MultiLabelBinarizer\n",
    "filePath = os.path.join(workingDir,'API/model/multilabel.joblib')\n",
    "multilabel = joblib.load(filePath)\n"
   ]
  },
  {
   "cell_type": "code",
   "execution_count": 33,
   "id": "bf837e9e-60db-4d42-bebe-e34a6e237b6e",
   "metadata": {},
   "outputs": [
    {
     "data": {
      "text/plain": [
       "OneVsRestClassifier(estimator=LogisticRegression(C=10))"
      ]
     },
     "execution_count": 33,
     "metadata": {},
     "output_type": "execute_result"
    }
   ],
   "source": [
    "mPredict"
   ]
  },
  {
   "cell_type": "markdown",
   "id": "5acb6c27-eff9-4680-b9a3-4a45092756d3",
   "metadata": {},
   "source": [
    "## Import d'un jeu de donnée"
   ]
  },
  {
   "cell_type": "code",
   "execution_count": 34,
   "id": "8f050d4f-f4f5-43c5-b7c2-25debe7f8e3d",
   "metadata": {},
   "outputs": [],
   "source": [
    "import pandas as pd\n",
    "import numpy as np\n",
    "workingDir = os.getcwd()\n",
    "dataDir = os.path.join(workingDir,'Data','posts')\n",
    "filePath = os.path.join(dataDir,'QueryResults_03.csv')\n",
    "df = pd.read_csv(filePath,sep=',')"
   ]
  },
  {
   "cell_type": "code",
   "execution_count": 35,
   "id": "29b3ec7a-4676-432f-a473-97ca8dee2268",
   "metadata": {},
   "outputs": [
    {
     "data": {
      "text/plain": [
       "Index(['Id', 'PostTypeId', 'AcceptedAnswerId', 'ParentId', 'CreationDate',\n",
       "       'DeletionDate', 'Score', 'ViewCount', 'Body', 'OwnerUserId',\n",
       "       'OwnerDisplayName', 'LastEditorUserId', 'LastEditorDisplayName',\n",
       "       'LastEditDate', 'LastActivityDate', 'Title', 'Tags', 'AnswerCount',\n",
       "       'CommentCount', 'FavoriteCount', 'ClosedDate', 'CommunityOwnedDate',\n",
       "       'ContentLicense', 'rank'],\n",
       "      dtype='object')"
      ]
     },
     "execution_count": 35,
     "metadata": {},
     "output_type": "execute_result"
    }
   ],
   "source": [
    "df.columns"
   ]
  },
  {
   "cell_type": "code",
   "execution_count": 36,
   "id": "753bffd0-d0ba-4d97-ae91-32081ca2a206",
   "metadata": {},
   "outputs": [],
   "source": [
    "dfQuestions = df[['Title','Body']]\n",
    "dfTags = df.Tags"
   ]
  },
  {
   "cell_type": "code",
   "execution_count": 37,
   "id": "5642dc42-ea93-40ff-8959-57dfd1889b2d",
   "metadata": {},
   "outputs": [
    {
     "data": {
      "text/html": [
       "<div>\n",
       "<style scoped>\n",
       "    .dataframe tbody tr th:only-of-type {\n",
       "        vertical-align: middle;\n",
       "    }\n",
       "\n",
       "    .dataframe tbody tr th {\n",
       "        vertical-align: top;\n",
       "    }\n",
       "\n",
       "    .dataframe thead th {\n",
       "        text-align: right;\n",
       "    }\n",
       "</style>\n",
       "<table border=\"1\" class=\"dataframe\">\n",
       "  <thead>\n",
       "    <tr style=\"text-align: right;\">\n",
       "      <th></th>\n",
       "      <th>Title</th>\n",
       "      <th>Body</th>\n",
       "    </tr>\n",
       "  </thead>\n",
       "  <tbody>\n",
       "    <tr>\n",
       "      <th>0</th>\n",
       "      <td>Is it possible to use C# Object Initializers w...</td>\n",
       "      <td>&lt;p&gt;I'm looking at the new object initializers ...</td>\n",
       "    </tr>\n",
       "    <tr>\n",
       "      <th>1</th>\n",
       "      <td>Excel Conditional Formatting Self Reference</td>\n",
       "      <td>&lt;p&gt;I'm trying to do some conditional formattin...</td>\n",
       "    </tr>\n",
       "    <tr>\n",
       "      <th>2</th>\n",
       "      <td>Best way to check for current date in where cl...</td>\n",
       "      <td>&lt;p&gt;I'm trying to find out the most efficient (...</td>\n",
       "    </tr>\n",
       "    <tr>\n",
       "      <th>3</th>\n",
       "      <td>Detect an internet connection activation with ...</td>\n",
       "      <td>&lt;p&gt;I've been using a 3G wireless card for a wh...</td>\n",
       "    </tr>\n",
       "    <tr>\n",
       "      <th>4</th>\n",
       "      <td>Improve asp script performance that takes 3+ m...</td>\n",
       "      <td>&lt;p&gt;I use an SQL statement to remove records th...</td>\n",
       "    </tr>\n",
       "  </tbody>\n",
       "</table>\n",
       "</div>"
      ],
      "text/plain": [
       "                                               Title  \\\n",
       "0  Is it possible to use C# Object Initializers w...   \n",
       "1        Excel Conditional Formatting Self Reference   \n",
       "2  Best way to check for current date in where cl...   \n",
       "3  Detect an internet connection activation with ...   \n",
       "4  Improve asp script performance that takes 3+ m...   \n",
       "\n",
       "                                                Body  \n",
       "0  <p>I'm looking at the new object initializers ...  \n",
       "1  <p>I'm trying to do some conditional formattin...  \n",
       "2  <p>I'm trying to find out the most efficient (...  \n",
       "3  <p>I've been using a 3G wireless card for a wh...  \n",
       "4  <p>I use an SQL statement to remove records th...  "
      ]
     },
     "execution_count": 37,
     "metadata": {},
     "output_type": "execute_result"
    }
   ],
   "source": [
    "dfQuestions.head()"
   ]
  },
  {
   "cell_type": "code",
   "execution_count": 38,
   "id": "af14fd77-bce0-40b9-bf95-719e8e0e8fb5",
   "metadata": {},
   "outputs": [
    {
     "data": {
      "text/plain": [
       "0                                    <c#-3.0><factory>\n",
       "1    <excel><worksheet-function><conditional-format...\n",
       "2          <sql><tsql><stored-procedures><performance>\n",
       "3       <delphi><winapi><wininet><internet-connection>\n",
       "4                                   <sql><asp-classic>\n",
       "Name: Tags, dtype: object"
      ]
     },
     "execution_count": 38,
     "metadata": {},
     "output_type": "execute_result"
    }
   ],
   "source": [
    "dfTags.head()"
   ]
  },
  {
   "cell_type": "code",
   "execution_count": 39,
   "id": "fb3990d9-14fa-4307-9e90-608ad40dd0c0",
   "metadata": {},
   "outputs": [],
   "source": [
    "def Tag_Transform(x):\n",
    "    _str = x.replace(' ', '-').replace('<','').replace('>',' ').strip(' ')\n",
    "    return _str.split()"
   ]
  },
  {
   "cell_type": "code",
   "execution_count": 40,
   "id": "d9fbe754-c63c-4bd2-b0d2-4d64915e8806",
   "metadata": {},
   "outputs": [],
   "source": [
    "dfTags = dfTags.apply(Tag_Transform)"
   ]
  },
  {
   "cell_type": "code",
   "execution_count": 41,
   "id": "05173135-8de0-4016-8175-139bf63e7223",
   "metadata": {},
   "outputs": [
    {
     "data": {
      "text/plain": [
       "0                                    [c#-3.0, factory]\n",
       "1    [excel, worksheet-function, conditional-format...\n",
       "2          [sql, tsql, stored-procedures, performance]\n",
       "3       [delphi, winapi, wininet, internet-connection]\n",
       "4                                   [sql, asp-classic]\n",
       "Name: Tags, dtype: object"
      ]
     },
     "execution_count": 41,
     "metadata": {},
     "output_type": "execute_result"
    }
   ],
   "source": [
    "dfTags.head()"
   ]
  },
  {
   "cell_type": "code",
   "execution_count": 74,
   "id": "0a1d1294-dc5c-4ddf-84cc-0abff6d9261d",
   "metadata": {},
   "outputs": [],
   "source": [
    "def most_common(tags,listTag100):\n",
    "    tags_filtered = []\n",
    "    for i in range(0, len(tags)):\n",
    "        if tags[i] in listTag100:\n",
    "            tags_filtered.append(tags[i])\n",
    "    return tags_filtered"
   ]
  },
  {
   "cell_type": "code",
   "execution_count": 76,
   "id": "6cba4daf-9a27-41d5-8e84-a66127f2fc5a",
   "metadata": {},
   "outputs": [],
   "source": [
    "dfTagsFiltered = dfTags.apply(lambda x : most_common(x,multilabel.classes_))"
   ]
  },
  {
   "cell_type": "code",
   "execution_count": 42,
   "id": "2da2f88e-9e2d-450d-8256-adb6f08cc9ae",
   "metadata": {},
   "outputs": [],
   "source": [
    "from bs4 import BeautifulSoup\n",
    "import re\n",
    "from nltk.corpus import stopwords\n",
    "from nltk.tokenize import word_tokenize\n",
    "from nltk.tokenize import MWETokenizer\n",
    "from nltk.stem import WordNetLemmatizer\n",
    "import gensim\n",
    "from gensim.models.phrases import Phrases"
   ]
  },
  {
   "cell_type": "code",
   "execution_count": 43,
   "id": "f7c618db-a529-479f-89f1-29091a986ced",
   "metadata": {},
   "outputs": [],
   "source": [
    "tokenizer = MWETokenizer()\n",
    "tokenizer.add_mwe(('c', '#'))"
   ]
  },
  {
   "cell_type": "code",
   "execution_count": 44,
   "id": "d5d411dd-27c7-4d05-8169-e093c65ce1a3",
   "metadata": {},
   "outputs": [
    {
     "data": {
      "text/plain": [
       "['is',\n",
       " 'it',\n",
       " 'possible',\n",
       " 'to',\n",
       " 'use',\n",
       " 'c_#',\n",
       " 'object',\n",
       " 'initializers',\n",
       " 'with',\n",
       " 'factories']"
      ]
     },
     "execution_count": 44,
     "metadata": {},
     "output_type": "execute_result"
    }
   ],
   "source": [
    "tokenizer.tokenize(word_tokenize(dfQuestions.Title[0].lower()))"
   ]
  },
  {
   "cell_type": "code",
   "execution_count": 45,
   "id": "f9de0103-182d-4c02-b132-deef7d993e73",
   "metadata": {},
   "outputs": [],
   "source": [
    "new_stop_words=['would','want', 'please', 'help', 'can', \"can't\",'shall','thanks','thank','may',\n",
    "                'seem','understand','error','warning','require','rather']\n",
    "stop_words = stopwords.words('english')\n",
    "stop_words.extend(new_stop_words)\n",
    "stop_words = set(stop_words)\n",
    "lemmatize=WordNetLemmatizer()\n",
    "tokenizer = MWETokenizer()\n",
    "tokenizer.add_mwe(('c', '#'))\n",
    "\n",
    "file_path = os.path.join(workingDir,'API','model','bigram.pkl')\n",
    "bigram_mod = Phrases.load(file_path)\n",
    "\n",
    "def clean_text(text):\n",
    "    clean_text = re.sub(r'[^A-Za-z0-9+#.\\-]',' ',text.lower())\n",
    "    words=word_tokenize(str(clean_text.lower()))\n",
    "    words = tokenizer.tokenize(words)\n",
    "    \n",
    "    clean_words = [str(lemmatize.lemmatize(j)) for j in words if j not in stop_words]\n",
    "    bigram_words = bigram_mod[clean_words]\n",
    "    \n",
    "    clean_text = ' '.join(bigram_words)\n",
    "    clean_text = clean_text.replace('c_#','c#')\n",
    "    \n",
    "    return clean_text.strip()"
   ]
  },
  {
   "cell_type": "code",
   "execution_count": 46,
   "id": "7702a540-5685-4c01-82dc-0e9466d4cd19",
   "metadata": {},
   "outputs": [],
   "source": [
    "def clean_body(body):\n",
    "    _txt = BeautifulSoup(body).get_text()\n",
    "    return clean_text(_txt)"
   ]
  },
  {
   "cell_type": "code",
   "execution_count": 47,
   "id": "25d165a1-d4de-4ef9-acba-08718d7ab425",
   "metadata": {},
   "outputs": [],
   "source": [
    "dfFinal = dfQuestions.Title.apply(clean_text) +  dfQuestions.Body.apply(clean_body) "
   ]
  },
  {
   "cell_type": "code",
   "execution_count": 48,
   "id": "ecd7e8d7-03e3-4671-8808-871ea3958c0c",
   "metadata": {},
   "outputs": [
    {
     "data": {
      "text/plain": [
       "0    possible use c# object initializers factoryloo...\n",
       "1    excel conditional formatting self referencetry...\n",
       "2    best way check current date clause sql querytr...\n",
       "3    detect internet connection activation delphius...\n",
       "4    improve asp script performance take 3+ minute ...\n",
       "dtype: object"
      ]
     },
     "execution_count": 48,
     "metadata": {},
     "output_type": "execute_result"
    }
   ],
   "source": [
    "dfFinal.head()"
   ]
  },
  {
   "cell_type": "code",
   "execution_count": 49,
   "id": "3227721c-81af-4b8d-b128-6ceda750a668",
   "metadata": {},
   "outputs": [],
   "source": [
    "X_tfidf = vectorizer.transform(dfFinal)"
   ]
  },
  {
   "cell_type": "code",
   "execution_count": 50,
   "id": "6774cada-5cc1-4cbc-9dbd-2a6fc9e3f1b1",
   "metadata": {},
   "outputs": [
    {
     "data": {
      "text/plain": [
       "<5000x1000 sparse matrix of type '<class 'numpy.float64'>'\n",
       "\twith 137579 stored elements in Compressed Sparse Row format>"
      ]
     },
     "execution_count": 50,
     "metadata": {},
     "output_type": "execute_result"
    }
   ],
   "source": [
    "X_tfidf"
   ]
  },
  {
   "cell_type": "code",
   "execution_count": 51,
   "id": "547bc5ae-ca20-41e1-b289-bc73b4717c4d",
   "metadata": {
    "tags": []
   },
   "outputs": [],
   "source": [
    "yPred = mPredict.predict(X_tfidf)"
   ]
  },
  {
   "cell_type": "code",
   "execution_count": 52,
   "id": "580f27de-2252-411e-99e1-f53a2c22c5f5",
   "metadata": {},
   "outputs": [
    {
     "data": {
      "text/plain": [
       "array(['.net', 'actionscript-3', 'ajax', 'algorithm', 'android', 'apache',\n",
       "       'apache-flex', 'arrays', 'asp.net', 'asp.net-mvc', 'asp.net-mvc-2',\n",
       "       'bash', 'bug', 'c', 'c#', 'c++', 'class', 'cocoa', 'cocoa-touch',\n",
       "       'css', 'database', 'debugging', 'delphi', 'design-patterns',\n",
       "       'discussion', 'django', 'eclipse', 'email', 'entity-framework',\n",
       "       'events', 'excel', 'facebook', 'feature-request', 'file', 'flash',\n",
       "       'forms', 'generics', 'git', 'google-app-engine', 'hibernate',\n",
       "       'html', 'http', 'image', 'internet-explorer', 'iphone', 'java',\n",
       "       'javascript', 'jquery', 'json', 'linq', 'linq-to-sql', 'linux',\n",
       "       'macos', 'multithreading', 'mysql', 'nhibernate', 'objective-c',\n",
       "       'oop', 'oracle', 'parsing', 'performance', 'perl', 'php', 'python',\n",
       "       'qt', 'regex', 'ruby', 'ruby-on-rails', 'security', 'sharepoint',\n",
       "       'silverlight', 'spring', 'sql', 'sql-server', 'sql-server-2005',\n",
       "       'sql-server-2008', 'sqlite', 'string', 'support', 'svn', 'swing',\n",
       "       'tsql', 'unit-testing', 'user-interface', 'validation', 'vb.net',\n",
       "       'vba', 'visual-studio', 'visual-studio-2008', 'visual-studio-2010',\n",
       "       'wcf', 'web-services', 'winapi', 'windows', 'winforms',\n",
       "       'wordpress', 'wpf', 'xcode', 'xml', 'zend-framework'], dtype=object)"
      ]
     },
     "execution_count": 52,
     "metadata": {},
     "output_type": "execute_result"
    }
   ],
   "source": [
    "multilabel.classes_"
   ]
  },
  {
   "cell_type": "code",
   "execution_count": 53,
   "id": "0a89b8c8-e88b-4a14-91f3-548fb8538953",
   "metadata": {},
   "outputs": [
    {
     "data": {
      "text/plain": [
       "array([0, 0, 0, 0, 0, 0, 0, 0, 0, 0, 0, 0, 0, 0, 1, 0, 0, 0, 0, 0, 0, 0,\n",
       "       0, 0, 0, 0, 0, 0, 0, 0, 0, 0, 0, 0, 0, 0, 0, 0, 0, 0, 0, 0, 0, 0,\n",
       "       0, 0, 0, 0, 0, 0, 0, 0, 0, 0, 0, 0, 0, 0, 0, 0, 0, 0, 0, 0, 0, 0,\n",
       "       0, 0, 0, 0, 0, 0, 0, 0, 0, 0, 0, 0, 0, 0, 0, 0, 0, 0, 0, 0, 0, 0,\n",
       "       0, 0, 0, 0, 0, 0, 0, 0, 0, 0, 0, 0])"
      ]
     },
     "execution_count": 53,
     "metadata": {},
     "output_type": "execute_result"
    }
   ],
   "source": [
    "yPred[0]"
   ]
  },
  {
   "cell_type": "code",
   "execution_count": 54,
   "id": "1265948b-1b08-49fc-b97a-b3a3ed521a2f",
   "metadata": {},
   "outputs": [],
   "source": [
    "dfRes = pd.DataFrame(yPred)"
   ]
  },
  {
   "cell_type": "code",
   "execution_count": 55,
   "id": "42fbc18b-bf65-4a9c-b095-ecbe482d6766",
   "metadata": {},
   "outputs": [],
   "source": [
    "dfRes.columns = multilabel.classes_"
   ]
  },
  {
   "cell_type": "code",
   "execution_count": 61,
   "id": "c9f19fa8-6332-43cc-baa7-7588ad00d4e5",
   "metadata": {},
   "outputs": [],
   "source": [
    "dfFinal = dfFinal.to_frame()"
   ]
  },
  {
   "cell_type": "code",
   "execution_count": 67,
   "id": "3504aec1-f61e-4082-8c25-a8f6e2da0667",
   "metadata": {},
   "outputs": [],
   "source": [
    "dfFinal = dfFinal.rename(columns={0: \"Text\"})"
   ]
  },
  {
   "cell_type": "code",
   "execution_count": 68,
   "id": "198ec910-91f3-4d1f-bda9-5889cc727a06",
   "metadata": {},
   "outputs": [],
   "source": [
    "dfFinal['Tag_pred'] = [list(tag) for tag in  multilabel.inverse_transform(yPred)]"
   ]
  },
  {
   "cell_type": "code",
   "execution_count": 77,
   "id": "090f71d8-b545-4819-894d-b3f10f0277fe",
   "metadata": {},
   "outputs": [],
   "source": [
    "dfFinal['Tag_Filtered'] = dfTagsFiltered"
   ]
  },
  {
   "cell_type": "code",
   "execution_count": 70,
   "id": "c337b807-ed0a-4e61-9fc4-c3afbe02d7a5",
   "metadata": {},
   "outputs": [],
   "source": [
    "dfFinal['Tag_orig'] = dfTags"
   ]
  },
  {
   "cell_type": "code",
   "execution_count": 78,
   "id": "9a57fc71-b07b-4f0b-8193-5ddf2bbdb55f",
   "metadata": {
    "tags": []
   },
   "outputs": [
    {
     "data": {
      "text/html": [
       "<div>\n",
       "<style scoped>\n",
       "    .dataframe tbody tr th:only-of-type {\n",
       "        vertical-align: middle;\n",
       "    }\n",
       "\n",
       "    .dataframe tbody tr th {\n",
       "        vertical-align: top;\n",
       "    }\n",
       "\n",
       "    .dataframe thead th {\n",
       "        text-align: right;\n",
       "    }\n",
       "</style>\n",
       "<table border=\"1\" class=\"dataframe\">\n",
       "  <thead>\n",
       "    <tr style=\"text-align: right;\">\n",
       "      <th></th>\n",
       "      <th>Text</th>\n",
       "      <th>Tag_pred</th>\n",
       "      <th>Tag_orig</th>\n",
       "      <th>Tag_Filtered</th>\n",
       "    </tr>\n",
       "  </thead>\n",
       "  <tbody>\n",
       "    <tr>\n",
       "      <th>0</th>\n",
       "      <td>possible use c# object initializers factoryloo...</td>\n",
       "      <td>[c#]</td>\n",
       "      <td>[c#-3.0, factory]</td>\n",
       "      <td>[]</td>\n",
       "    </tr>\n",
       "    <tr>\n",
       "      <th>1</th>\n",
       "      <td>excel conditional formatting self referencetry...</td>\n",
       "      <td>[excel]</td>\n",
       "      <td>[excel, worksheet-function, conditional-format...</td>\n",
       "      <td>[excel]</td>\n",
       "    </tr>\n",
       "    <tr>\n",
       "      <th>2</th>\n",
       "      <td>best way check current date clause sql querytr...</td>\n",
       "      <td>[sql]</td>\n",
       "      <td>[sql, tsql, stored-procedures, performance]</td>\n",
       "      <td>[sql, tsql, performance]</td>\n",
       "    </tr>\n",
       "    <tr>\n",
       "      <th>3</th>\n",
       "      <td>detect internet connection activation delphius...</td>\n",
       "      <td>[]</td>\n",
       "      <td>[delphi, winapi, wininet, internet-connection]</td>\n",
       "      <td>[delphi, winapi]</td>\n",
       "    </tr>\n",
       "    <tr>\n",
       "      <th>4</th>\n",
       "      <td>improve asp script performance take 3+ minute ...</td>\n",
       "      <td>[sql, sql-server]</td>\n",
       "      <td>[sql, asp-classic]</td>\n",
       "      <td>[sql]</td>\n",
       "    </tr>\n",
       "    <tr>\n",
       "      <th>...</th>\n",
       "      <td>...</td>\n",
       "      <td>...</td>\n",
       "      <td>...</td>\n",
       "      <td>...</td>\n",
       "    </tr>\n",
       "    <tr>\n",
       "      <th>4995</th>\n",
       "      <td>find tabselectionusing following code developi...</td>\n",
       "      <td>[jquery]</td>\n",
       "      <td>[javascript, jquery]</td>\n",
       "      <td>[javascript, jquery]</td>\n",
       "    </tr>\n",
       "    <tr>\n",
       "      <th>4996</th>\n",
       "      <td>viability c# .net new standard game dev platfo...</td>\n",
       "      <td>[c#]</td>\n",
       "      <td>[c#, mono, xna]</td>\n",
       "      <td>[c#]</td>\n",
       "    </tr>\n",
       "    <tr>\n",
       "      <th>4997</th>\n",
       "      <td>possible animation appear wpf navigationwindow...</td>\n",
       "      <td>[]</td>\n",
       "      <td>[wpf, animation, navigationwindow]</td>\n",
       "      <td>[wpf]</td>\n",
       "    </tr>\n",
       "    <tr>\n",
       "      <th>4998</th>\n",
       "      <td>deploying flex project leveraging imported web...</td>\n",
       "      <td>[]</td>\n",
       "      <td>[apache-flex, flexbuilder]</td>\n",
       "      <td>[apache-flex]</td>\n",
       "    </tr>\n",
       "    <tr>\n",
       "      <th>4999</th>\n",
       "      <td>compute nth root big integerneed way compute n...</td>\n",
       "      <td>[python]</td>\n",
       "      <td>[python, math, nth-root]</td>\n",
       "      <td>[python]</td>\n",
       "    </tr>\n",
       "  </tbody>\n",
       "</table>\n",
       "<p>5000 rows × 4 columns</p>\n",
       "</div>"
      ],
      "text/plain": [
       "                                                   Text           Tag_pred  \\\n",
       "0     possible use c# object initializers factoryloo...               [c#]   \n",
       "1     excel conditional formatting self referencetry...            [excel]   \n",
       "2     best way check current date clause sql querytr...              [sql]   \n",
       "3     detect internet connection activation delphius...                 []   \n",
       "4     improve asp script performance take 3+ minute ...  [sql, sql-server]   \n",
       "...                                                 ...                ...   \n",
       "4995  find tabselectionusing following code developi...           [jquery]   \n",
       "4996  viability c# .net new standard game dev platfo...               [c#]   \n",
       "4997  possible animation appear wpf navigationwindow...                 []   \n",
       "4998  deploying flex project leveraging imported web...                 []   \n",
       "4999  compute nth root big integerneed way compute n...           [python]   \n",
       "\n",
       "                                               Tag_orig  \\\n",
       "0                                     [c#-3.0, factory]   \n",
       "1     [excel, worksheet-function, conditional-format...   \n",
       "2           [sql, tsql, stored-procedures, performance]   \n",
       "3        [delphi, winapi, wininet, internet-connection]   \n",
       "4                                    [sql, asp-classic]   \n",
       "...                                                 ...   \n",
       "4995                               [javascript, jquery]   \n",
       "4996                                    [c#, mono, xna]   \n",
       "4997                 [wpf, animation, navigationwindow]   \n",
       "4998                         [apache-flex, flexbuilder]   \n",
       "4999                           [python, math, nth-root]   \n",
       "\n",
       "                  Tag_Filtered  \n",
       "0                           []  \n",
       "1                      [excel]  \n",
       "2     [sql, tsql, performance]  \n",
       "3             [delphi, winapi]  \n",
       "4                        [sql]  \n",
       "...                        ...  \n",
       "4995      [javascript, jquery]  \n",
       "4996                      [c#]  \n",
       "4997                     [wpf]  \n",
       "4998             [apache-flex]  \n",
       "4999                  [python]  \n",
       "\n",
       "[5000 rows x 4 columns]"
      ]
     },
     "execution_count": 78,
     "metadata": {},
     "output_type": "execute_result"
    }
   ],
   "source": [
    "dfFinal"
   ]
  },
  {
   "cell_type": "markdown",
   "id": "a8f63b42-1f84-4ccd-ad07-ab68f4c22de1",
   "metadata": {},
   "source": [
    "Ce notebook contient les étapes majeures pour la construction de notre API. Nous avons réussi à partir d'un texte à prédire/suggérer des tags. Nous pouvons maintenant écrire notre le code source de notre API."
   ]
  }
 ],
 "metadata": {
  "kernelspec": {
   "display_name": "Python 3",
   "language": "python",
   "name": "python3"
  },
  "language_info": {
   "codemirror_mode": {
    "name": "ipython",
    "version": 3
   },
   "file_extension": ".py",
   "mimetype": "text/x-python",
   "name": "python",
   "nbconvert_exporter": "python",
   "pygments_lexer": "ipython3",
   "version": "3.8.8"
  }
 },
 "nbformat": 4,
 "nbformat_minor": 5
}
